{
 "cells": [
  {
   "cell_type": "markdown",
   "metadata": {},
   "source": [
    "### Metadata extrahieren \n",
    "Von allen 9 811 Texten Metadaten einlesen und als Dataframe speichern "
   ]
  },
  {
   "cell_type": "code",
   "execution_count": null,
   "metadata": {},
   "outputs": [],
   "source": [
    "import glob, os\n",
    "from pathlib import Path\n",
    "import html\n",
    "from tokenize import tokenize"
   ]
  },
  {
   "cell_type": "code",
   "execution_count": null,
   "metadata": {},
   "outputs": [],
   "source": [
    "from unidecode import unidecode\n",
    "from urllib.parse import unquote\n",
    "import pandas as pd\n",
    "import re"
   ]
  },
  {
   "cell_type": "code",
   "execution_count": null,
   "metadata": {},
   "outputs": [],
   "source": [
    "# alle Harry Potter Fan-Fiction Texte werden eingelesen\n",
    "p = Path('./Fan-Fiction/Harry Potter')\n",
    "files = list(p.glob('*'))"
   ]
  },
  {
   "cell_type": "code",
   "execution_count": null,
   "metadata": {},
   "outputs": [],
   "source": [
    "len(files)"
   ]
  },
  {
   "cell_type": "markdown",
   "metadata": {},
   "source": [
    "Datum herausfiltern und in pd.Series speichern/ Index = Dateiname"
   ]
  },
  {
   "cell_type": "code",
   "execution_count": null,
   "metadata": {},
   "outputs": [],
   "source": [
    "def get_datum_series(text, index):\n",
    "    # input: text\n",
    "    # get Series of Datum\n",
    "    import re\n",
    "    datum = re.findall('<date>(.+?)</date>', text)\n",
    "    datumJoined = \" \".join(datum)\n",
    "    datum_series = pd.Series(datumJoined, index=[index])\n",
    "    return datum_series"
   ]
  },
  {
   "cell_type": "code",
   "execution_count": null,
   "metadata": {},
   "outputs": [],
   "source": [
    "def get_title_series(text, index):\n",
    "    # input: text\n",
    "    # get Series of Titel\n",
    "    import re\n",
    "    text2 = unidecode(unquote(text))\n",
    "    title = re.findall('<title type=\"main\">(.+?)</title>', text2)\n",
    "    titleJoined = \" \".join(title)\n",
    "    title_series = pd.Series(titleJoined, index=[index])\n",
    "    return title_series"
   ]
  },
  {
   "cell_type": "code",
   "execution_count": null,
   "metadata": {},
   "outputs": [],
   "source": [
    "def get_author_series(text: object, index: object) -> object:\n",
    "    # input: text\n",
    "    # get Series of Autor\n",
    "    import re\n",
    "    author = re.findall('<persName>(.+?)</persName>', text)\n",
    "    authorJoined = \" \".join(author)\n",
    "    author_series = pd.Series(authorJoined, index=[index])\n",
    "    return author_series"
   ]
  },
  {
   "cell_type": "code",
   "execution_count": null,
   "metadata": {},
   "outputs": [],
   "source": [
    "def get_story_series(text, index):\n",
    "    # input: text\n",
    "    # get Series of Story\n",
    "    import re\n",
    "    text2 = html.unescape(text)\n",
    "    story = re.findall('<body>(.+?)</body>', text2)\n",
    "\n",
    "    # Text von Tags bereinigen\n",
    "    counter = 0\n",
    "    stories = []\n",
    "    for f in story:\n",
    "        new_story = re.sub('<[^<]+>', \"\", f)\n",
    "\n",
    "        counter += 1\n",
    "        stories.append(new_story)\n",
    "\n",
    "    storyJoined = \" \".join(stories)\n",
    "    story_series = pd.Series(storyJoined, index=[index])\n",
    "    return story_series"
   ]
  },
  {
   "cell_type": "code",
   "execution_count": null,
   "metadata": {},
   "outputs": [],
   "source": [
    "counter = 0\n",
    "datum_series = pd.Series(dtype=\"Int64\")\n",
    "title_series = pd.Series(dtype=\"string\")\n",
    "author_series = pd.Series(dtype=\"string\")\n",
    "story_series = pd.Series(dtype=\"string\")\n",
    "for file in files:\n",
    "    with open(file, encoding=\"utf-8\") as fin:\n",
    "        text = fin.read()\n",
    "        file = os.path.basename(file)\n",
    "\n",
    "        datumSeries = get_datum_series(text, file)\n",
    "        datum_series = datum_series.append(datumSeries)\n",
    "\n",
    "        titleSeries = get_title_series(text, file)\n",
    "        title_series = title_series.append(titleSeries)\n",
    "\n",
    "        authorSeries = get_author_series(text, file)\n",
    "        author_series = author_series.append(authorSeries)\n",
    "\n",
    "        storySeries = get_story_series(text, file)\n",
    "        story_series = story_series.append(storySeries)\n",
    "\n",
    "        counter += 1"
   ]
  },
  {
   "cell_type": "code",
   "execution_count": null,
   "metadata": {},
   "outputs": [],
   "source": [
    "# Series in Dataframe packen; Index= Dateiname\n",
    "df = pd.DataFrame({'Autor': author_series, 'Titel': title_series, 'Datum': datum_series, \"Text\": story_series})\n",
    "# Dataframe zu CSV-Datei\n",
    "df.to_csv('Df_one.csv', encoding='utf-8')"
   ]
  },
  {
   "cell_type": "code",
   "execution_count": null,
   "metadata": {},
   "outputs": [],
   "source": [
    "df.head()"
   ]
  },
  {
   "cell_type": "markdown",
   "metadata": {},
   "source": [
    "Originaltexte einlesen "
   ]
  },
  {
   "cell_type": "code",
   "execution_count": 16,
   "metadata": {},
   "outputs": [],
   "source": [
    "import glob, os\n",
    "import shutil\n",
    "from pathlib import Path\n",
    "\n",
    "\n",
    "# alle Original Texte werden eingelesen\n",
    "p = Path('./Original')\n",
    "original_files = list(p.glob('*'))"
   ]
  },
  {
   "cell_type": "code",
   "execution_count": 17,
   "metadata": {},
   "outputs": [
    {
     "data": {
      "text/plain": [
       "[WindowsPath('Original/01_Harry Potter und der Gefangene - J.K. Rowling.txt'),\n",
       " WindowsPath('Original/02_Harry Potter und der Halbblutpr - J.K. Rowling.txt'),\n",
       " WindowsPath('Original/03_Harry Potter und der Orden des - J.K. Rowling.txt'),\n",
       " WindowsPath('Original/04_Harry Potter und der Stein der - J.K. Rowling.txt'),\n",
       " WindowsPath('Original/05_Harry Potter und die Heiligtume - J.K. Rowling.txt'),\n",
       " WindowsPath('Original/06_Harry Potter und die Kammer des - J.K. Rowling.txt'),\n",
       " WindowsPath('Original/07_Harry Potter und der Feuerkelch - J.K. Rowling.txt')]"
      ]
     },
     "execution_count": 17,
     "metadata": {},
     "output_type": "execute_result"
    }
   ],
   "source": [
    "original_files"
   ]
  },
  {
   "cell_type": "code",
   "execution_count": 18,
   "metadata": {},
   "outputs": [],
   "source": [
    "#den Inhalt der Texte einlesen und in Liste speichern\n",
    "\n",
    "counter = 0\n",
    "my_original_files = []\n",
    "for file in original_files:\n",
    "    with open(file, encoding=\"utf-8\") as fin:\n",
    "        text = fin.read()\n",
    "        file = os.path.basename(file)\n",
    "        counter += 1\n",
    "        my_original_files.append(text)"
   ]
  },
  {
   "cell_type": "code",
   "execution_count": 19,
   "metadata": {},
   "outputs": [
    {
     "data": {
      "text/plain": [
       "7"
      ]
     },
     "execution_count": 19,
     "metadata": {},
     "output_type": "execute_result"
    }
   ],
   "source": [
    "len(my_original_files)"
   ]
  },
  {
   "cell_type": "code",
   "execution_count": 20,
   "metadata": {},
   "outputs": [],
   "source": [
    "df2 = pd.DataFrame({'Text':my_original_files})"
   ]
  },
  {
   "cell_type": "code",
   "execution_count": 21,
   "metadata": {},
   "outputs": [
    {
     "data": {
      "text/html": [
       "<div>\n",
       "<style scoped>\n",
       "    .dataframe tbody tr th:only-of-type {\n",
       "        vertical-align: middle;\n",
       "    }\n",
       "\n",
       "    .dataframe tbody tr th {\n",
       "        vertical-align: top;\n",
       "    }\n",
       "\n",
       "    .dataframe thead th {\n",
       "        text-align: right;\n",
       "    }\n",
       "</style>\n",
       "<table border=\"1\" class=\"dataframe\">\n",
       "  <thead>\n",
       "    <tr style=\"text-align: right;\">\n",
       "      <th></th>\n",
       "      <th>Text</th>\n",
       "    </tr>\n",
       "  </thead>\n",
       "  <tbody>\n",
       "    <tr>\n",
       "      <th>0</th>\n",
       "      <td>\\n\\n\\nFür Jill Prewett und Aine Kiely,\\n\\ndie ...</td>\n",
       "    </tr>\n",
       "    <tr>\n",
       "      <th>1</th>\n",
       "      <td>\\n\\n\\nMackenzie,\\n\\nmeiner schönen Tochter,\\n\\...</td>\n",
       "    </tr>\n",
       "    <tr>\n",
       "      <th>2</th>\n",
       "      <td>\\n\\n\\n\\n\\nFür Neil, Jessica und David,\\n\\ndie ...</td>\n",
       "    </tr>\n",
       "    <tr>\n",
       "      <th>3</th>\n",
       "      <td>\\n\\n\\n\\nFür Jessica, für Anne und fü Di;\\n\\nJe...</td>\n",
       "    </tr>\n",
       "    <tr>\n",
       "      <th>4</th>\n",
       "      <td>\\n\\n\\nDie\\n\\nWidmung\\n\\ndieses Buches\\n\\nist\\n...</td>\n",
       "    </tr>\n",
       "    <tr>\n",
       "      <th>5</th>\n",
       "      <td>\\n\\n\\nFür Sean P. F. Harris,\\n\\nFluchtwagen-Fa...</td>\n",
       "    </tr>\n",
       "    <tr>\n",
       "      <th>6</th>\n",
       "      <td>Für Peter Rowling,\\n\\nin Erinnerung an Mr Ridl...</td>\n",
       "    </tr>\n",
       "  </tbody>\n",
       "</table>\n",
       "</div>"
      ],
      "text/plain": [
       "                                                Text\n",
       "0  \\n\\n\\nFür Jill Prewett und Aine Kiely,\\n\\ndie ...\n",
       "1  \\n\\n\\nMackenzie,\\n\\nmeiner schönen Tochter,\\n\\...\n",
       "2  \\n\\n\\n\\n\\nFür Neil, Jessica und David,\\n\\ndie ...\n",
       "3  \\n\\n\\n\\nFür Jessica, für Anne und fü Di;\\n\\nJe...\n",
       "4  \\n\\n\\nDie\\n\\nWidmung\\n\\ndieses Buches\\n\\nist\\n...\n",
       "5  \\n\\n\\nFür Sean P. F. Harris,\\n\\nFluchtwagen-Fa...\n",
       "6  Für Peter Rowling,\\n\\nin Erinnerung an Mr Ridl..."
      ]
     },
     "execution_count": 21,
     "metadata": {},
     "output_type": "execute_result"
    }
   ],
   "source": [
    "df2"
   ]
  },
  {
   "cell_type": "markdown",
   "metadata": {},
   "source": [
    "Original_Texte laden "
   ]
  },
  {
   "cell_type": "code",
   "execution_count": 22,
   "metadata": {},
   "outputs": [],
   "source": [
    "import pandas as pd\n",
    "\n",
    "df = pd.read_excel('df_original.xlsx', encoding='utf-8')"
   ]
  },
  {
   "cell_type": "code",
   "execution_count": 23,
   "metadata": {},
   "outputs": [],
   "source": [
    "df.to_excel(\"df_original.xlsx\")"
   ]
  },
  {
   "cell_type": "code",
   "execution_count": 24,
   "metadata": {},
   "outputs": [],
   "source": [
    "df[\"Text\"] = df2.Text"
   ]
  },
  {
   "cell_type": "code",
   "execution_count": 25,
   "metadata": {},
   "outputs": [
    {
     "data": {
      "text/html": [
       "<div>\n",
       "<style scoped>\n",
       "    .dataframe tbody tr th:only-of-type {\n",
       "        vertical-align: middle;\n",
       "    }\n",
       "\n",
       "    .dataframe tbody tr th {\n",
       "        vertical-align: top;\n",
       "    }\n",
       "\n",
       "    .dataframe thead th {\n",
       "        text-align: right;\n",
       "    }\n",
       "</style>\n",
       "<table border=\"1\" class=\"dataframe\">\n",
       "  <thead>\n",
       "    <tr style=\"text-align: right;\">\n",
       "      <th></th>\n",
       "      <th>Unnamed: 0</th>\n",
       "      <th>Autor</th>\n",
       "      <th>Titel</th>\n",
       "      <th>Übersetzer</th>\n",
       "      <th>Original_Titel</th>\n",
       "      <th>ISBN</th>\n",
       "      <th>Datum</th>\n",
       "      <th>Text</th>\n",
       "    </tr>\n",
       "  </thead>\n",
       "  <tbody>\n",
       "    <tr>\n",
       "      <th>0</th>\n",
       "      <td>0</td>\n",
       "      <td>J.K. Rowling</td>\n",
       "      <td>HARRY POTTER und der Gefangene von Askaban</td>\n",
       "      <td>Klaus Fritz</td>\n",
       "      <td>Harry Potter and the Prisoner of Azkaban</td>\n",
       "      <td>978-1-78110-057-8</td>\n",
       "      <td>1999</td>\n",
       "      <td>\\n\\n\\nFür Jill Prewett und Aine Kiely,\\n\\ndie ...</td>\n",
       "    </tr>\n",
       "    <tr>\n",
       "      <th>1</th>\n",
       "      <td>1</td>\n",
       "      <td>J.K. Rowling</td>\n",
       "      <td>HARRY POTTER und der Halbblutprinz</td>\n",
       "      <td>Klaus Fritz</td>\n",
       "      <td>Harry Potter and the Half-Blood Prince</td>\n",
       "      <td>978-1-78110-060-8</td>\n",
       "      <td>2005</td>\n",
       "      <td>\\n\\n\\nMackenzie,\\n\\nmeiner schönen Tochter,\\n\\...</td>\n",
       "    </tr>\n",
       "    <tr>\n",
       "      <th>2</th>\n",
       "      <td>2</td>\n",
       "      <td>J.K. Rowling</td>\n",
       "      <td>HARRY POTTER und der Orden des Phönix</td>\n",
       "      <td>Klaus Fritz</td>\n",
       "      <td>Harry Potter and the Order of the Phoenix</td>\n",
       "      <td>978-1-78110-059-2</td>\n",
       "      <td>2003</td>\n",
       "      <td>\\n\\n\\n\\n\\nFür Neil, Jessica und David,\\n\\ndie ...</td>\n",
       "    </tr>\n",
       "    <tr>\n",
       "      <th>3</th>\n",
       "      <td>3</td>\n",
       "      <td>J.K. Rowling</td>\n",
       "      <td>HARRY POTTER und der Stein der Weisen</td>\n",
       "      <td>Klaus Fritz</td>\n",
       "      <td>Harry Potter and the Philosopher’s Stone</td>\n",
       "      <td>978-1-78110-055-4</td>\n",
       "      <td>1997</td>\n",
       "      <td>\\n\\n\\n\\nFür Jessica, für Anne und fü Di;\\n\\nJe...</td>\n",
       "    </tr>\n",
       "    <tr>\n",
       "      <th>4</th>\n",
       "      <td>4</td>\n",
       "      <td>J.K. Rowling</td>\n",
       "      <td>HARRY POTTER und die Heiligtümer des Todes</td>\n",
       "      <td>Klaus Fritz</td>\n",
       "      <td>Harry Potter and the Deathly Hallows</td>\n",
       "      <td>978-1-78110-061-5</td>\n",
       "      <td>2007</td>\n",
       "      <td>\\n\\n\\nDie\\n\\nWidmung\\n\\ndieses Buches\\n\\nist\\n...</td>\n",
       "    </tr>\n",
       "    <tr>\n",
       "      <th>5</th>\n",
       "      <td>5</td>\n",
       "      <td>J.K. Rowling</td>\n",
       "      <td>HARRY POTTER und die Kammer des Schreckens</td>\n",
       "      <td>Klaus Fritz</td>\n",
       "      <td>Harry Potter and the Chamber of Secrets</td>\n",
       "      <td>978-1-78110-056-1</td>\n",
       "      <td>1998</td>\n",
       "      <td>\\n\\n\\nFür Sean P. F. Harris,\\n\\nFluchtwagen-Fa...</td>\n",
       "    </tr>\n",
       "    <tr>\n",
       "      <th>6</th>\n",
       "      <td>6</td>\n",
       "      <td>J.K. Rowling</td>\n",
       "      <td>HARRY POTTER und der Feuerkelch</td>\n",
       "      <td>Klaus Fritz</td>\n",
       "      <td>Harry Potter and the Goblet of Fire</td>\n",
       "      <td>978-1-78110-058-5</td>\n",
       "      <td>2000</td>\n",
       "      <td>Für Peter Rowling,\\n\\nin Erinnerung an Mr Ridl...</td>\n",
       "    </tr>\n",
       "  </tbody>\n",
       "</table>\n",
       "</div>"
      ],
      "text/plain": [
       "   Unnamed: 0         Autor                                       Titel  \\\n",
       "0           0  J.K. Rowling  HARRY POTTER und der Gefangene von Askaban   \n",
       "1           1  J.K. Rowling          HARRY POTTER und der Halbblutprinz   \n",
       "2           2  J.K. Rowling       HARRY POTTER und der Orden des Phönix   \n",
       "3           3  J.K. Rowling       HARRY POTTER und der Stein der Weisen   \n",
       "4           4  J.K. Rowling  HARRY POTTER und die Heiligtümer des Todes   \n",
       "5           5  J.K. Rowling  HARRY POTTER und die Kammer des Schreckens   \n",
       "6           6  J.K. Rowling             HARRY POTTER und der Feuerkelch   \n",
       "\n",
       "    Übersetzer                             Original_Titel               ISBN  \\\n",
       "0  Klaus Fritz   Harry Potter and the Prisoner of Azkaban  978-1-78110-057-8   \n",
       "1  Klaus Fritz     Harry Potter and the Half-Blood Prince  978-1-78110-060-8   \n",
       "2  Klaus Fritz  Harry Potter and the Order of the Phoenix  978-1-78110-059-2   \n",
       "3  Klaus Fritz   Harry Potter and the Philosopher’s Stone  978-1-78110-055-4   \n",
       "4  Klaus Fritz       Harry Potter and the Deathly Hallows  978-1-78110-061-5   \n",
       "5  Klaus Fritz    Harry Potter and the Chamber of Secrets  978-1-78110-056-1   \n",
       "6  Klaus Fritz        Harry Potter and the Goblet of Fire  978-1-78110-058-5   \n",
       "\n",
       "   Datum                                               Text  \n",
       "0   1999  \\n\\n\\nFür Jill Prewett und Aine Kiely,\\n\\ndie ...  \n",
       "1   2005  \\n\\n\\nMackenzie,\\n\\nmeiner schönen Tochter,\\n\\...  \n",
       "2   2003  \\n\\n\\n\\n\\nFür Neil, Jessica und David,\\n\\ndie ...  \n",
       "3   1997  \\n\\n\\n\\nFür Jessica, für Anne und fü Di;\\n\\nJe...  \n",
       "4   2007  \\n\\n\\nDie\\n\\nWidmung\\n\\ndieses Buches\\n\\nist\\n...  \n",
       "5   1998  \\n\\n\\nFür Sean P. F. Harris,\\n\\nFluchtwagen-Fa...  \n",
       "6   2000  Für Peter Rowling,\\n\\nin Erinnerung an Mr Ridl...  "
      ]
     },
     "execution_count": 25,
     "metadata": {},
     "output_type": "execute_result"
    }
   ],
   "source": [
    "df"
   ]
  },
  {
   "cell_type": "markdown",
   "metadata": {},
   "source": [
    "Stoppwörter aus den Texten entfernen und als neue Spalte speichern"
   ]
  },
  {
   "cell_type": "code",
   "execution_count": 26,
   "metadata": {},
   "outputs": [],
   "source": [
    "df['removed_stop_word_lower'] = df['Text'].str.lower()"
   ]
  },
  {
   "cell_type": "code",
   "execution_count": 27,
   "metadata": {},
   "outputs": [],
   "source": [
    "# stopwords entfernen \n",
    "import nltk\n",
    "from nltk.corpus import stopwords\n",
    "german_stop_words = stopwords.words('german')\n",
    "\n",
    "def stop_word_removal(x):\n",
    "    token = x.split()\n",
    "    return ' '.join([w for w in token if not w in german_stop_words])\n",
    "\n",
    "\n",
    "df['removed_stop_word']  = df['removed_stop_word_lower'].apply(stop_word_removal)\n"
   ]
  },
  {
   "cell_type": "code",
   "execution_count": 28,
   "metadata": {},
   "outputs": [
    {
     "data": {
      "text/html": [
       "<div>\n",
       "<style scoped>\n",
       "    .dataframe tbody tr th:only-of-type {\n",
       "        vertical-align: middle;\n",
       "    }\n",
       "\n",
       "    .dataframe tbody tr th {\n",
       "        vertical-align: top;\n",
       "    }\n",
       "\n",
       "    .dataframe thead th {\n",
       "        text-align: right;\n",
       "    }\n",
       "</style>\n",
       "<table border=\"1\" class=\"dataframe\">\n",
       "  <thead>\n",
       "    <tr style=\"text-align: right;\">\n",
       "      <th></th>\n",
       "      <th>Unnamed: 0</th>\n",
       "      <th>Autor</th>\n",
       "      <th>Titel</th>\n",
       "      <th>Übersetzer</th>\n",
       "      <th>Original_Titel</th>\n",
       "      <th>ISBN</th>\n",
       "      <th>Datum</th>\n",
       "      <th>Text</th>\n",
       "      <th>removed_stop_word_lower</th>\n",
       "      <th>removed_stop_word</th>\n",
       "    </tr>\n",
       "  </thead>\n",
       "  <tbody>\n",
       "    <tr>\n",
       "      <th>0</th>\n",
       "      <td>0</td>\n",
       "      <td>J.K. Rowling</td>\n",
       "      <td>HARRY POTTER und der Gefangene von Askaban</td>\n",
       "      <td>Klaus Fritz</td>\n",
       "      <td>Harry Potter and the Prisoner of Azkaban</td>\n",
       "      <td>978-1-78110-057-8</td>\n",
       "      <td>1999</td>\n",
       "      <td>\\n\\n\\nFür Jill Prewett und Aine Kiely,\\n\\ndie ...</td>\n",
       "      <td>\\n\\n\\nfür jill prewett und aine kiely,\\n\\ndie ...</td>\n",
       "      <td>jill prewett aine kiely, patinnen souls inhalt...</td>\n",
       "    </tr>\n",
       "    <tr>\n",
       "      <th>1</th>\n",
       "      <td>1</td>\n",
       "      <td>J.K. Rowling</td>\n",
       "      <td>HARRY POTTER und der Halbblutprinz</td>\n",
       "      <td>Klaus Fritz</td>\n",
       "      <td>Harry Potter and the Half-Blood Prince</td>\n",
       "      <td>978-1-78110-060-8</td>\n",
       "      <td>2005</td>\n",
       "      <td>\\n\\n\\nMackenzie,\\n\\nmeiner schönen Tochter,\\n\\...</td>\n",
       "      <td>\\n\\n\\nmackenzie,\\n\\nmeiner schönen tochter,\\n\\...</td>\n",
       "      <td>mackenzie, schönen tochter, widme zwilling tin...</td>\n",
       "    </tr>\n",
       "    <tr>\n",
       "      <th>2</th>\n",
       "      <td>2</td>\n",
       "      <td>J.K. Rowling</td>\n",
       "      <td>HARRY POTTER und der Orden des Phönix</td>\n",
       "      <td>Klaus Fritz</td>\n",
       "      <td>Harry Potter and the Order of the Phoenix</td>\n",
       "      <td>978-1-78110-059-2</td>\n",
       "      <td>2003</td>\n",
       "      <td>\\n\\n\\n\\n\\nFür Neil, Jessica und David,\\n\\ndie ...</td>\n",
       "      <td>\\n\\n\\n\\n\\nfür neil, jessica und david,\\n\\ndie ...</td>\n",
       "      <td>neil, jessica david, welt verzaubern inhalt du...</td>\n",
       "    </tr>\n",
       "    <tr>\n",
       "      <th>3</th>\n",
       "      <td>3</td>\n",
       "      <td>J.K. Rowling</td>\n",
       "      <td>HARRY POTTER und der Stein der Weisen</td>\n",
       "      <td>Klaus Fritz</td>\n",
       "      <td>Harry Potter and the Philosopher’s Stone</td>\n",
       "      <td>978-1-78110-055-4</td>\n",
       "      <td>1997</td>\n",
       "      <td>\\n\\n\\n\\nFür Jessica, für Anne und fü Di;\\n\\nJe...</td>\n",
       "      <td>\\n\\n\\n\\nfür jessica, für anne und fü di;\\n\\nje...</td>\n",
       "      <td>jessica, anne fü di; jessica mag geschichten, ...</td>\n",
       "    </tr>\n",
       "    <tr>\n",
       "      <th>4</th>\n",
       "      <td>4</td>\n",
       "      <td>J.K. Rowling</td>\n",
       "      <td>HARRY POTTER und die Heiligtümer des Todes</td>\n",
       "      <td>Klaus Fritz</td>\n",
       "      <td>Harry Potter and the Deathly Hallows</td>\n",
       "      <td>978-1-78110-061-5</td>\n",
       "      <td>2007</td>\n",
       "      <td>\\n\\n\\nDie\\n\\nWidmung\\n\\ndieses Buches\\n\\nist\\n...</td>\n",
       "      <td>\\n\\n\\ndie\\n\\nwidmung\\n\\ndieses buches\\n\\nist\\n...</td>\n",
       "      <td>widmung buches siebengeteilt: neil, jessica, d...</td>\n",
       "    </tr>\n",
       "    <tr>\n",
       "      <th>5</th>\n",
       "      <td>5</td>\n",
       "      <td>J.K. Rowling</td>\n",
       "      <td>HARRY POTTER und die Kammer des Schreckens</td>\n",
       "      <td>Klaus Fritz</td>\n",
       "      <td>Harry Potter and the Chamber of Secrets</td>\n",
       "      <td>978-1-78110-056-1</td>\n",
       "      <td>1998</td>\n",
       "      <td>\\n\\n\\nFür Sean P. F. Harris,\\n\\nFluchtwagen-Fa...</td>\n",
       "      <td>\\n\\n\\nfür sean p. f. harris,\\n\\nfluchtwagen-fa...</td>\n",
       "      <td>sean p. f. harris, fluchtwagen-fahrer freund s...</td>\n",
       "    </tr>\n",
       "    <tr>\n",
       "      <th>6</th>\n",
       "      <td>6</td>\n",
       "      <td>J.K. Rowling</td>\n",
       "      <td>HARRY POTTER und der Feuerkelch</td>\n",
       "      <td>Klaus Fritz</td>\n",
       "      <td>Harry Potter and the Goblet of Fire</td>\n",
       "      <td>978-1-78110-058-5</td>\n",
       "      <td>2000</td>\n",
       "      <td>Für Peter Rowling,\\n\\nin Erinnerung an Mr Ridl...</td>\n",
       "      <td>für peter rowling,\\n\\nin erinnerung an mr ridl...</td>\n",
       "      <td>peter rowling, erinnerung mr ridley, susan sla...</td>\n",
       "    </tr>\n",
       "  </tbody>\n",
       "</table>\n",
       "</div>"
      ],
      "text/plain": [
       "   Unnamed: 0         Autor                                       Titel  \\\n",
       "0           0  J.K. Rowling  HARRY POTTER und der Gefangene von Askaban   \n",
       "1           1  J.K. Rowling          HARRY POTTER und der Halbblutprinz   \n",
       "2           2  J.K. Rowling       HARRY POTTER und der Orden des Phönix   \n",
       "3           3  J.K. Rowling       HARRY POTTER und der Stein der Weisen   \n",
       "4           4  J.K. Rowling  HARRY POTTER und die Heiligtümer des Todes   \n",
       "5           5  J.K. Rowling  HARRY POTTER und die Kammer des Schreckens   \n",
       "6           6  J.K. Rowling             HARRY POTTER und der Feuerkelch   \n",
       "\n",
       "    Übersetzer                             Original_Titel               ISBN  \\\n",
       "0  Klaus Fritz   Harry Potter and the Prisoner of Azkaban  978-1-78110-057-8   \n",
       "1  Klaus Fritz     Harry Potter and the Half-Blood Prince  978-1-78110-060-8   \n",
       "2  Klaus Fritz  Harry Potter and the Order of the Phoenix  978-1-78110-059-2   \n",
       "3  Klaus Fritz   Harry Potter and the Philosopher’s Stone  978-1-78110-055-4   \n",
       "4  Klaus Fritz       Harry Potter and the Deathly Hallows  978-1-78110-061-5   \n",
       "5  Klaus Fritz    Harry Potter and the Chamber of Secrets  978-1-78110-056-1   \n",
       "6  Klaus Fritz        Harry Potter and the Goblet of Fire  978-1-78110-058-5   \n",
       "\n",
       "   Datum                                               Text  \\\n",
       "0   1999  \\n\\n\\nFür Jill Prewett und Aine Kiely,\\n\\ndie ...   \n",
       "1   2005  \\n\\n\\nMackenzie,\\n\\nmeiner schönen Tochter,\\n\\...   \n",
       "2   2003  \\n\\n\\n\\n\\nFür Neil, Jessica und David,\\n\\ndie ...   \n",
       "3   1997  \\n\\n\\n\\nFür Jessica, für Anne und fü Di;\\n\\nJe...   \n",
       "4   2007  \\n\\n\\nDie\\n\\nWidmung\\n\\ndieses Buches\\n\\nist\\n...   \n",
       "5   1998  \\n\\n\\nFür Sean P. F. Harris,\\n\\nFluchtwagen-Fa...   \n",
       "6   2000  Für Peter Rowling,\\n\\nin Erinnerung an Mr Ridl...   \n",
       "\n",
       "                             removed_stop_word_lower  \\\n",
       "0  \\n\\n\\nfür jill prewett und aine kiely,\\n\\ndie ...   \n",
       "1  \\n\\n\\nmackenzie,\\n\\nmeiner schönen tochter,\\n\\...   \n",
       "2  \\n\\n\\n\\n\\nfür neil, jessica und david,\\n\\ndie ...   \n",
       "3  \\n\\n\\n\\nfür jessica, für anne und fü di;\\n\\nje...   \n",
       "4  \\n\\n\\ndie\\n\\nwidmung\\n\\ndieses buches\\n\\nist\\n...   \n",
       "5  \\n\\n\\nfür sean p. f. harris,\\n\\nfluchtwagen-fa...   \n",
       "6  für peter rowling,\\n\\nin erinnerung an mr ridl...   \n",
       "\n",
       "                                   removed_stop_word  \n",
       "0  jill prewett aine kiely, patinnen souls inhalt...  \n",
       "1  mackenzie, schönen tochter, widme zwilling tin...  \n",
       "2  neil, jessica david, welt verzaubern inhalt du...  \n",
       "3  jessica, anne fü di; jessica mag geschichten, ...  \n",
       "4  widmung buches siebengeteilt: neil, jessica, d...  \n",
       "5  sean p. f. harris, fluchtwagen-fahrer freund s...  \n",
       "6  peter rowling, erinnerung mr ridley, susan sla...  "
      ]
     },
     "execution_count": 28,
     "metadata": {},
     "output_type": "execute_result"
    }
   ],
   "source": [
    "df"
   ]
  },
  {
   "cell_type": "code",
   "execution_count": 30,
   "metadata": {},
   "outputs": [],
   "source": [
    "df.to_csv('df_original.csv', encoding='utf-8')"
   ]
  }
 ],
 "metadata": {
  "jupytext": {
   "cell_metadata_filter": "-all",
   "encoding": "# -*- coding: utf-8 -*-",
   "notebook_metadata_filter": "-all",
   "text_representation": {
    "extension": ".py",
    "format_name": "light"
   }
  },
  "kernelspec": {
   "display_name": "Python 3",
   "language": "python",
   "name": "python3"
  },
  "language_info": {
   "codemirror_mode": {
    "name": "ipython",
    "version": 3
   },
   "file_extension": ".py",
   "mimetype": "text/x-python",
   "name": "python",
   "nbconvert_exporter": "python",
   "pygments_lexer": "ipython3",
   "version": "3.7.7"
  }
 },
 "nbformat": 4,
 "nbformat_minor": 4
}
